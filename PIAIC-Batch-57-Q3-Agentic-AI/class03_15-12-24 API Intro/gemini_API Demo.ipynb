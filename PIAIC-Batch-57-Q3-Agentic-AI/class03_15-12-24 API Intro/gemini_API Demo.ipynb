{
 "cells": [
  {
   "cell_type": "markdown",
   "id": "95f92454-7ef6-42b3-86a5-bca0960f8ab5",
   "metadata": {},
   "source": [
    "# Web API: Fetching and Displaying Random User Data"
   ]
  },
  {
   "cell_type": "code",
   "execution_count": 1,
   "id": "6ef5feb1-0ded-455a-88ac-b2b422d31dae",
   "metadata": {},
   "outputs": [
    {
     "data": {
      "text/html": [
       "\n",
       "      \n",
       "          User Profile\n",
       "          \n",
       "              \n",
       "          \n",
       "          \n",
       "              \n",
       "                  Field\n",
       "                  Value\n",
       "              \n",
       "              \n",
       "                  ID\n",
       "                  PPS 8490879T\n",
       "              \n",
       "              \n",
       "                  Date of Registration\n",
       "                  2003-12-23 (Age: 20)\n",
       "              \n",
       "              \n",
       "                  Name\n",
       "                  Ms Debra Larson\n",
       "              \n",
       "              \n",
       "                  Gender\n",
       "                  female\n",
       "              \n",
       "              \n",
       "                  Email\n",
       "                  debra.larson@example.com\n",
       "              \n",
       "              \n",
       "                  Username\n",
       "                  whitefrog728\n",
       "              \n",
       "              \n",
       "                  Password\n",
       "                  services\n",
       "              \n",
       "              \n",
       "                  Date of Birth\n",
       "                  1953-04-29 (Age: 71)\n",
       "              \n",
       "              \n",
       "                  Phone\n",
       "                  041-591-3397\n",
       "              \n",
       "              \n",
       "                  Cell\n",
       "                  081-379-6907\n",
       "              \n",
       "              \n",
       "                  Address\n",
       "                  \n",
       "                      5471 Galway Road,\n",
       "                      Ashbourne, Sligo,\n",
       "                      Ireland (69883)\n",
       "                  \n",
       "              \n",
       "              \n",
       "                  Coordinates\n",
       "                  \n",
       "                      Latitude: -3.8494,\n",
       "                      Longitude: 152.4662\n",
       "                  \n",
       "              \n",
       "              \n",
       "                  Timezone\n",
       "                  \n",
       "                      Kabul (Offset: +4:30)\n",
       "                  \n",
       "              \n",
       "              \n",
       "                  Nationality\n",
       "                  IE\n",
       "              \n",
       "          \n",
       "      \n",
       "    "
      ],
      "text/plain": [
       "<IPython.core.display.HTML object>"
      ]
     },
     "metadata": {},
     "output_type": "display_data"
    }
   ],
   "source": [
    "import requests\n",
    "from datetime import datetime\n",
    "from IPython.display import Image\n",
    "from IPython.display import display, HTML\n",
    "\n",
    "# API Endpoint\n",
    "url = \"https://randomuser.me/api/\"\n",
    "\n",
    "# Make a GET request to fetch a random user\n",
    "response = requests.get(url)\n",
    "\n",
    "# Check if the request was successful\n",
    "if response.status_code == 200:\n",
    "    # Parse the JSON response\n",
    "    data = response.json()\n",
    "    user = data['results'][0]  # Extract the first user\n",
    "\n",
    "    # Format the data into an HTML table\n",
    "    html_content = f\"\"\"\n",
    "      \n",
    "          User Profile\n",
    "          \n",
    "              \n",
    "          \n",
    "          \n",
    "              \n",
    "                  Field\n",
    "                  Value\n",
    "              \n",
    "              \n",
    "                  ID\n",
    "                  {user['id']['name']} {user['id']['value']}\n",
    "              \n",
    "              \n",
    "                  Date of Registration\n",
    "                  {user['registered']['date'][:10]} (Age: {user['registered']['age']})\n",
    "              \n",
    "              \n",
    "                  Name\n",
    "                  {user['name']['title']} {user['name']['first']} {user['name']['last']}\n",
    "              \n",
    "              \n",
    "                  Gender\n",
    "                  {user['gender']}\n",
    "              \n",
    "              \n",
    "                  Email\n",
    "                  {user['email']}\n",
    "              \n",
    "              \n",
    "                  Username\n",
    "                  {user['login']['username']}\n",
    "              \n",
    "              \n",
    "                  Password\n",
    "                  {user['login']['password']}\n",
    "              \n",
    "              \n",
    "                  Date of Birth\n",
    "                  {user['dob']['date'][:10]} (Age: {user['dob']['age']})\n",
    "              \n",
    "              \n",
    "                  Phone\n",
    "                  {user['phone']}\n",
    "              \n",
    "              \n",
    "                  Cell\n",
    "                  {user['cell']}\n",
    "              \n",
    "              \n",
    "                  Address\n",
    "                  \n",
    "                      {user['location']['street']['number']} {user['location']['street']['name']},\n",
    "                      {user['location']['city']}, {user['location']['state']},\n",
    "                      {user['location']['country']} ({user['location']['postcode']})\n",
    "                  \n",
    "              \n",
    "              \n",
    "                  Coordinates\n",
    "                  \n",
    "                      Latitude: {user['location']['coordinates']['latitude']},\n",
    "                      Longitude: {user['location']['coordinates']['longitude']}\n",
    "                  \n",
    "              \n",
    "              \n",
    "                  Timezone\n",
    "                  \n",
    "                      {user['location']['timezone']['description']} (Offset: {user['location']['timezone']['offset']})\n",
    "                  \n",
    "              \n",
    "              \n",
    "                  Nationality\n",
    "                  {user['nat']}\n",
    "              \n",
    "          \n",
    "      \n",
    "    \"\"\"\n",
    "\n",
    "    # Display the organized HTML content\n",
    "    display(HTML(html_content))\n",
    "else:\n",
    "    print(f\"Failed to fetch data. Status Code: {response.status_code}\")\n"
   ]
  },
  {
   "cell_type": "markdown",
   "id": "eb0aa4a0-9739-4ee5-bce7-2d6d1dc8763c",
   "metadata": {},
   "source": [
    "# Library API: Using the math Library for Calculations"
   ]
  },
  {
   "cell_type": "code",
   "execution_count": 2,
   "id": "65dab6a2-5e74-464a-a8fd-61181935e95b",
   "metadata": {},
   "outputs": [
    {
     "name": "stdout",
     "output_type": "stream",
     "text": [
      "The square root of 25 is 5.0\n",
      "The sine of 90 degrees is 1.0\n",
      "The value of Pi is approximately 3.141592653589793\n"
     ]
    }
   ],
   "source": [
    "import math\n",
    "\n",
    "# Using the math library to perform some calculations\n",
    "number = 25\n",
    "\n",
    "# Find square root\n",
    "sqrt_result = math.sqrt(number)\n",
    "print(f\"The square root of {number} is {sqrt_result}\")\n",
    "\n",
    "# Calculate sine of 90 degrees (converted to radians)\n",
    "angle_degrees = 90\n",
    "angle_radians = math.radians(angle_degrees)\n",
    "sine_result = math.sin(angle_radians)\n",
    "print(f\"The sine of {angle_degrees} degrees is {sine_result}\")\n",
    "\n",
    "# Calculate the value of Pi\n",
    "print(f\"The value of Pi is approximately {math.pi}\")"
   ]
  },
  {
   "cell_type": "markdown",
   "id": "81e412f5-f7a0-4e98-ad48-583e398b0819",
   "metadata": {},
   "source": [
    "# Gemini Demo"
   ]
  },
  {
   "cell_type": "code",
   "execution_count": 3,
   "id": "5c6be625-41d8-484e-abc6-a5801fdc3797",
   "metadata": {},
   "outputs": [
    {
     "name": "stderr",
     "output_type": "stream",
     "text": [
      "WARNING: Ignoring invalid distribution ~penai (C:\\Users\\shahm\\AppData\\Local\\Programs\\Python\\Python312\\Lib\\site-packages)\n",
      "WARNING: Ignoring invalid distribution ~penai (C:\\Users\\shahm\\AppData\\Local\\Programs\\Python\\Python312\\Lib\\site-packages)\n",
      "WARNING: Ignoring invalid distribution ~penai (C:\\Users\\shahm\\AppData\\Local\\Programs\\Python\\Python312\\Lib\\site-packages)\n"
     ]
    }
   ],
   "source": [
    "!pip install --upgrade --quiet google-generativeai"
   ]
  },
  {
   "cell_type": "code",
   "execution_count": null,
   "id": "7f9ef859-9a47-43ec-881f-e46a3793cbbe",
   "metadata": {},
   "outputs": [],
   "source": []
  },
  {
   "cell_type": "code",
   "execution_count": null,
   "id": "2c865bdc-c4a5-4768-a8af-abcd0c5e765e",
   "metadata": {},
   "outputs": [],
   "source": []
  },
  {
   "cell_type": "markdown",
   "id": "f3dd3a5f-1d64-4958-a86e-4472923a2295",
   "metadata": {},
   "source": [
    "## For References"
   ]
  },
  {
   "cell_type": "raw",
   "id": "db58573f-7438-450d-93fd-9541d056a435",
   "metadata": {},
   "source": [
    "https://github.com/JahanzaibTayyab/AI-201/blob/main/class03-20241215/3_04_gemini_api_demo.ipynb"
   ]
  },
  {
   "cell_type": "code",
   "execution_count": null,
   "id": "a7482cc0-8930-4460-9286-6c252278fa59",
   "metadata": {},
   "outputs": [],
   "source": []
  }
 ],
 "metadata": {
  "kernelspec": {
   "display_name": "Python 3 (ipykernel)",
   "language": "python",
   "name": "python3"
  },
  "language_info": {
   "codemirror_mode": {
    "name": "ipython",
    "version": 3
   },
   "file_extension": ".py",
   "mimetype": "text/x-python",
   "name": "python",
   "nbconvert_exporter": "python",
   "pygments_lexer": "ipython3",
   "version": "3.12.5"
  }
 },
 "nbformat": 4,
 "nbformat_minor": 5
}
